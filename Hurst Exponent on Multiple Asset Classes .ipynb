{
 "cells": [
  {
   "cell_type": "markdown",
   "id": "deca0dce",
   "metadata": {},
   "source": [
    "# 1. Read prices from CSV file"
   ]
  },
  {
   "cell_type": "code",
   "execution_count": 1,
   "id": "945acbdc",
   "metadata": {},
   "outputs": [
    {
     "data": {
      "text/html": [
       "<div>\n",
       "<style scoped>\n",
       "    .dataframe tbody tr th:only-of-type {\n",
       "        vertical-align: middle;\n",
       "    }\n",
       "\n",
       "    .dataframe tbody tr th {\n",
       "        vertical-align: top;\n",
       "    }\n",
       "\n",
       "    .dataframe thead th {\n",
       "        text-align: right;\n",
       "    }\n",
       "</style>\n",
       "<table border=\"1\" class=\"dataframe\">\n",
       "  <thead>\n",
       "    <tr style=\"text-align: right;\">\n",
       "      <th></th>\n",
       "      <th>Gold</th>\n",
       "      <th>Silver</th>\n",
       "      <th>Crude Oil</th>\n",
       "      <th>Platinum</th>\n",
       "      <th>Corn</th>\n",
       "      <th>Sugar</th>\n",
       "      <th>Wheat</th>\n",
       "      <th>EUR-USD</th>\n",
       "      <th>USD-JPY</th>\n",
       "      <th>GBP-USD</th>\n",
       "      <th>...</th>\n",
       "      <th>GBP-EUR</th>\n",
       "      <th>S&amp;P500</th>\n",
       "      <th>Dow Jones Industrial Average</th>\n",
       "      <th>NASDAQ</th>\n",
       "      <th>Russell 2000</th>\n",
       "      <th>TLT</th>\n",
       "      <th>TLH</th>\n",
       "      <th>IEF</th>\n",
       "      <th>IEI</th>\n",
       "      <th>SHY</th>\n",
       "    </tr>\n",
       "    <tr>\n",
       "      <th>Date</th>\n",
       "      <th></th>\n",
       "      <th></th>\n",
       "      <th></th>\n",
       "      <th></th>\n",
       "      <th></th>\n",
       "      <th></th>\n",
       "      <th></th>\n",
       "      <th></th>\n",
       "      <th></th>\n",
       "      <th></th>\n",
       "      <th></th>\n",
       "      <th></th>\n",
       "      <th></th>\n",
       "      <th></th>\n",
       "      <th></th>\n",
       "      <th></th>\n",
       "      <th></th>\n",
       "      <th></th>\n",
       "      <th></th>\n",
       "      <th></th>\n",
       "      <th></th>\n",
       "    </tr>\n",
       "  </thead>\n",
       "  <tbody>\n",
       "    <tr>\n",
       "      <th>2019-12-26</th>\n",
       "      <td>142.380005</td>\n",
       "      <td>16.73</td>\n",
       "      <td>103.120003</td>\n",
       "      <td>89.510002</td>\n",
       "      <td>14.84</td>\n",
       "      <td>7.01</td>\n",
       "      <td>5.76</td>\n",
       "      <td>1.109545</td>\n",
       "      <td>109.369003</td>\n",
       "      <td>1.297353</td>\n",
       "      <td>...</td>\n",
       "      <td>1.16890</td>\n",
       "      <td>321.052124</td>\n",
       "      <td>283.575867</td>\n",
       "      <td>213.335373</td>\n",
       "      <td>166.037979</td>\n",
       "      <td>136.366409</td>\n",
       "      <td>143.870224</td>\n",
       "      <td>110.003388</td>\n",
       "      <td>125.000992</td>\n",
       "      <td>84.119888</td>\n",
       "    </tr>\n",
       "    <tr>\n",
       "      <th>2019-12-27</th>\n",
       "      <td>142.330002</td>\n",
       "      <td>16.58</td>\n",
       "      <td>103.279999</td>\n",
       "      <td>88.879997</td>\n",
       "      <td>14.88</td>\n",
       "      <td>7.05</td>\n",
       "      <td>5.82</td>\n",
       "      <td>1.110112</td>\n",
       "      <td>109.542000</td>\n",
       "      <td>1.300221</td>\n",
       "      <td>...</td>\n",
       "      <td>1.17085</td>\n",
       "      <td>320.972565</td>\n",
       "      <td>283.843536</td>\n",
       "      <td>213.155762</td>\n",
       "      <td>165.221146</td>\n",
       "      <td>136.515533</td>\n",
       "      <td>144.009445</td>\n",
       "      <td>110.162628</td>\n",
       "      <td>125.219879</td>\n",
       "      <td>84.179588</td>\n",
       "    </tr>\n",
       "    <tr>\n",
       "      <th>2019-12-30</th>\n",
       "      <td>142.630005</td>\n",
       "      <td>16.74</td>\n",
       "      <td>103.120003</td>\n",
       "      <td>90.129997</td>\n",
       "      <td>14.82</td>\n",
       "      <td>7.08</td>\n",
       "      <td>5.80</td>\n",
       "      <td>1.118230</td>\n",
       "      <td>109.428001</td>\n",
       "      <td>1.309192</td>\n",
       "      <td>...</td>\n",
       "      <td>1.17066</td>\n",
       "      <td>319.202972</td>\n",
       "      <td>282.059174</td>\n",
       "      <td>211.758743</td>\n",
       "      <td>164.802765</td>\n",
       "      <td>136.018463</td>\n",
       "      <td>143.691238</td>\n",
       "      <td>110.092964</td>\n",
       "      <td>125.249718</td>\n",
       "      <td>84.209435</td>\n",
       "    </tr>\n",
       "    <tr>\n",
       "      <th>2019-12-31</th>\n",
       "      <td>142.899994</td>\n",
       "      <td>16.68</td>\n",
       "      <td>102.480003</td>\n",
       "      <td>90.930000</td>\n",
       "      <td>14.80</td>\n",
       "      <td>7.02</td>\n",
       "      <td>5.85</td>\n",
       "      <td>1.120230</td>\n",
       "      <td>108.873001</td>\n",
       "      <td>1.311303</td>\n",
       "      <td>...</td>\n",
       "      <td>1.17039</td>\n",
       "      <td>319.978424</td>\n",
       "      <td>282.624176</td>\n",
       "      <td>212.157883</td>\n",
       "      <td>165.031876</td>\n",
       "      <td>134.686310</td>\n",
       "      <td>142.816101</td>\n",
       "      <td>109.694862</td>\n",
       "      <td>125.110435</td>\n",
       "      <td>84.199486</td>\n",
       "    </tr>\n",
       "    <tr>\n",
       "      <th>2020-01-01</th>\n",
       "      <td>142.899994</td>\n",
       "      <td>16.68</td>\n",
       "      <td>102.480003</td>\n",
       "      <td>90.930000</td>\n",
       "      <td>14.80</td>\n",
       "      <td>7.02</td>\n",
       "      <td>5.85</td>\n",
       "      <td>1.122083</td>\n",
       "      <td>108.681000</td>\n",
       "      <td>1.326260</td>\n",
       "      <td>...</td>\n",
       "      <td>1.18140</td>\n",
       "      <td>319.978424</td>\n",
       "      <td>282.624176</td>\n",
       "      <td>212.157883</td>\n",
       "      <td>165.031876</td>\n",
       "      <td>134.686310</td>\n",
       "      <td>142.816101</td>\n",
       "      <td>109.694862</td>\n",
       "      <td>125.110435</td>\n",
       "      <td>84.199486</td>\n",
       "    </tr>\n",
       "  </tbody>\n",
       "</table>\n",
       "<p>5 rows × 22 columns</p>\n",
       "</div>"
      ],
      "text/plain": [
       "                  Gold  Silver   Crude Oil   Platinum   Corn  Sugar  Wheat  \\\n",
       "Date                                                                         \n",
       "2019-12-26  142.380005   16.73  103.120003  89.510002  14.84   7.01   5.76   \n",
       "2019-12-27  142.330002   16.58  103.279999  88.879997  14.88   7.05   5.82   \n",
       "2019-12-30  142.630005   16.74  103.120003  90.129997  14.82   7.08   5.80   \n",
       "2019-12-31  142.899994   16.68  102.480003  90.930000  14.80   7.02   5.85   \n",
       "2020-01-01  142.899994   16.68  102.480003  90.930000  14.80   7.02   5.85   \n",
       "\n",
       "             EUR-USD     USD-JPY   GBP-USD  ...  GBP-EUR      S&P500  \\\n",
       "Date                                        ...                        \n",
       "2019-12-26  1.109545  109.369003  1.297353  ...  1.16890  321.052124   \n",
       "2019-12-27  1.110112  109.542000  1.300221  ...  1.17085  320.972565   \n",
       "2019-12-30  1.118230  109.428001  1.309192  ...  1.17066  319.202972   \n",
       "2019-12-31  1.120230  108.873001  1.311303  ...  1.17039  319.978424   \n",
       "2020-01-01  1.122083  108.681000  1.326260  ...  1.18140  319.978424   \n",
       "\n",
       "            Dow Jones Industrial Average      NASDAQ  Russell 2000  \\\n",
       "Date                                                                 \n",
       "2019-12-26                    283.575867  213.335373    166.037979   \n",
       "2019-12-27                    283.843536  213.155762    165.221146   \n",
       "2019-12-30                    282.059174  211.758743    164.802765   \n",
       "2019-12-31                    282.624176  212.157883    165.031876   \n",
       "2020-01-01                    282.624176  212.157883    165.031876   \n",
       "\n",
       "                   TLT         TLH         IEF         IEI        SHY  \n",
       "Date                                                                   \n",
       "2019-12-26  136.366409  143.870224  110.003388  125.000992  84.119888  \n",
       "2019-12-27  136.515533  144.009445  110.162628  125.219879  84.179588  \n",
       "2019-12-30  136.018463  143.691238  110.092964  125.249718  84.209435  \n",
       "2019-12-31  134.686310  142.816101  109.694862  125.110435  84.199486  \n",
       "2020-01-01  134.686310  142.816101  109.694862  125.110435  84.199486  \n",
       "\n",
       "[5 rows x 22 columns]"
      ]
     },
     "execution_count": 1,
     "metadata": {},
     "output_type": "execute_result"
    }
   ],
   "source": [
    "# Import the package pandas as pd\n",
    "import pandas as pd\n",
    "\n",
    "# Read the csv file using read_csv method of pandas\n",
    "prices = pd.read_csv('security_prices_2000_2019.csv', index_col=0)\n",
    "\n",
    "# Set the index to datetime\n",
    "prices.index = pd.to_datetime(prices.index)\n",
    "\n",
    "prices.tail()"
   ]
  },
  {
   "cell_type": "markdown",
   "id": "68921d54",
   "metadata": {},
   "source": [
    "# 2. Calculate Hurst exponent"
   ]
  },
  {
   "cell_type": "code",
   "execution_count": 2,
   "id": "a4f84be8",
   "metadata": {},
   "outputs": [],
   "source": [
    "def get_hurst(series):\n",
    "    # Calculate Hurst exponent\n",
    "    hurst_value = compute_Hc(series.dropna(), kind='price')[0]\n",
    "    return hurst_value\n",
    "\n",
    "\n",
    "def hurst_plot(hurst_plot_graph, title_name):\n",
    "    plt.subplots(figsize=(10, 7))\n",
    "\n",
    "    # Plot hurst exponent\n",
    "    hurst_plot_graph = ['grey' if (x < 0.65) else 'green' for x in hurst.values]\n",
    "    seaborn.barplot(x=hurst.index, y=hurst.values, palette=hurst_plot_graph)\n",
    "\n",
    "    # Set style for the bar graph\n",
    "    plt.axhline(0.65, color=\"red\")\n",
    "    plt.title(title_name, fontsize=14)\n",
    "    plt.ylabel('Hurst Values', fontsize=12)\n",
    "    plt.xticks(rotation=90)\n",
    "    plt.show()"
   ]
  },
  {
   "cell_type": "markdown",
   "id": "97bd4870",
   "metadata": {},
   "source": [
    "### Store securities according to their classes"
   ]
  },
  {
   "cell_type": "code",
   "execution_count": 3,
   "id": "55ca0c2d",
   "metadata": {},
   "outputs": [],
   "source": [
    "commodities = ['Gold', 'Silver', 'Crude Oil','Platinum', 'Corn', 'Sugar', 'Wheat']\n",
    "\n",
    "currencies = ['EUR-USD', 'USD-JPY', 'GBP-USD', 'USD-CAD', 'USD-CHF', 'GBP-EUR']\n",
    "\n",
    "stock_indices = ['S&P500', 'Dow Jones Industrial Average','NASDAQ', 'Russell 2000']\n",
    "\n",
    "treasuries = ['TLT', 'TLH', 'IEF', 'IEI', 'SHY']"
   ]
  },
  {
   "cell_type": "markdown",
   "id": "e60b511f",
   "metadata": {},
   "source": [
    "# 2.1 Commodities"
   ]
  },
  {
   "cell_type": "code",
   "execution_count": 4,
   "id": "eb77ac37",
   "metadata": {},
   "outputs": [
    {
     "data": {
      "image/png": "[encoded data removed]",
      "text/plain": [
       "<Figure size 720x504 with 1 Axes>"
      ]
     },
     "metadata": {},
     "output_type": "display_data"
    }
   ],
   "source": [
    "# Import compute_Hc from hurst library\n",
    "from hurst import compute_Hc\n",
    "\n",
    "# Import matplotlib and set the style\n",
    "import matplotlib.pyplot as plt\n",
    "import seaborn\n",
    "%matplotlib inline\n",
    "plt.style.use('seaborn-darkgrid')\n",
    "\n",
    "# Get Hurst exponenet of commodities\n",
    "hurst = prices[commodities].apply(get_hurst)\n",
    "\n",
    "# Plot Hurst exponent values\n",
    "hurst_plot(hurst.sort_values(0), 'Commodities')"
   ]
  },
  {
   "cell_type": "markdown",
   "id": "71c85e79",
   "metadata": {},
   "source": [
    "# 2.2 Stock indices"
   ]
  },
  {
   "cell_type": "code",
   "execution_count": 6,
   "id": "00813be2",
   "metadata": {},
   "outputs": [
    {
     "data": {
      "image/png": "[encoded data removed]",
      "text/plain": [
       "<Figure size 720x504 with 1 Axes>"
      ]
     },
     "metadata": {},
     "output_type": "display_data"
    }
   ],
   "source": [
    "# Get Hurst exponent of stock indices\n",
    "hurst = prices[stock_indices].apply(get_hurst)\n",
    "hurst_plot(hurst.sort_values(0), 'Stock Indices')"
   ]
  },
  {
   "cell_type": "markdown",
   "id": "12269afe",
   "metadata": {},
   "source": [
    "# 2.3 Currencies"
   ]
  },
  {
   "cell_type": "code",
   "execution_count": 7,
   "id": "99daac48",
   "metadata": {},
   "outputs": [
    {
     "data": {
      "image/png": "[encoded data removed]",
      "text/plain": [
       "<Figure size 720x504 with 1 Axes>"
      ]
     },
     "metadata": {},
     "output_type": "display_data"
    }
   ],
   "source": [
    "# Get Hurst exponent of currencies\n",
    "hurst = prices[currencies].apply(get_hurst)\n",
    "hurst_plot(hurst.sort_values(0), 'Currencies')"
   ]
  },
  {
   "cell_type": "markdown",
   "id": "e902931e",
   "metadata": {},
   "source": [
    "# 2.4 Treasuries"
   ]
  },
  {
   "cell_type": "code",
   "execution_count": 8,
   "id": "2f656fbe",
   "metadata": {},
   "outputs": [
    {
     "data": {
      "image/png": "[encoded data removed]",
      "text/plain": [
       "<Figure size 720x504 with 1 Axes>"
      ]
     },
     "metadata": {},
     "output_type": "display_data"
    }
   ],
   "source": [
    "hurst = prices[treasuries].apply(get_hurst)\n",
    "hurst_plot(hurst.sort_values(0),'Treasuries')"
   ]
  },
  {
   "cell_type": "markdown",
   "id": "47bdf187",
   "metadata": {},
   "source": [
    "# 3. Filter securities with high Hurst exponent"
   ]
  },
  {
   "cell_type": "code",
   "execution_count": 9,
   "id": "e636dbbc",
   "metadata": {},
   "outputs": [
    {
     "name": "stdout",
     "output_type": "stream",
     "text": [
      "                              hurst_exponent\n",
      "Crude Oil                           0.852324\n",
      "NASDAQ                              0.789579\n",
      "SHY                                 0.786669\n",
      "Wheat                               0.754997\n",
      "Gold                                0.726369\n",
      "Sugar                               0.717827\n",
      "IEF                                 0.702417\n",
      "Russell 2000                        0.698042\n",
      "IEI                                 0.696294\n",
      "S&P500                              0.694677\n",
      "Dow Jones Industrial Average        0.690858\n",
      "Silver                              0.687496\n",
      "Corn                                0.683932\n",
      "TLH                                 0.664223\n",
      "TLT                                 0.658736\n"
     ]
    }
   ],
   "source": [
    "data = prices[:]\n",
    "\n",
    "# Calculate Hurst exponent of all securities\n",
    "hurst = data.apply(get_hurst)\n",
    "\n",
    "# Store Hurst exponent in a dataframe\n",
    "hurst = pd.DataFrame(hurst, columns=['hurst_exponent'])\n",
    "\n",
    "# Keep only those securities having Hurst value greater than 0.65\n",
    "filtered_hurst = hurst.loc[hurst['hurst_exponent'] > 0.65].sort_values(\n",
    "    by='hurst_exponent', ascending=False)\n",
    "\n",
    "print(filtered_hurst)"
   ]
  }
 ],
 "metadata": {
  "kernelspec": {
   "display_name": "Python 3",
   "language": "python",
   "name": "python3"
  },
  "language_info": {
   "codemirror_mode": {
    "name": "ipython",
    "version": 3
   },
   "file_extension": ".py",
   "mimetype": "text/x-python",
   "name": "python",
   "nbconvert_exporter": "python",
   "pygments_lexer": "ipython3",
   "version": "3.8.8"
  }
 },
 "nbformat": 4,
 "nbformat_minor": 5
}
